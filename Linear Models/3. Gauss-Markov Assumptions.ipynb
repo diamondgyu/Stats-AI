{
 "cells": [
  {
   "cell_type": "markdown",
   "metadata": {},
   "source": [
    "# **Gauss-Markov Assumptions**\n",
    "* Assumptions that an estimator should meet, to be BLUE estimator\n",
    "1. Estimator should be linear in parameter\n",
    "2. $\\{x_i, y_i\\}$ is a random sample\n",
    "3. Zero conditional mean of errors\n",
    "4. No serial correlation of errors\n",
    "5. Homoskedastic errors\n",
    "6. No perfect collinearity\n",
    "\n",
    "The first two are quite obvious and we need some explanations and proofs for the other four."
   ]
  },
  {
   "cell_type": "markdown",
   "metadata": {},
   "source": [
    "## Zero Conditional Mean of error\n",
    "\n",
    "Definition: When a linear estimator generates error $\\mu_i$, then <br>\n",
    "$\\begin{align} \\mathbb{E}[\\mu_i|x_i] = 0 \\\\ \\end{align}$<br>\n",
    "if $\\mathbb{E}[\\mu_i|x_i] \\neq 0$ then the estimator is not blue;<br>\n",
    "in other words, <br>\n",
    "$\\begin{align}\\mathbb{E}[\\mu_i|x_i] \\neq 0 \\Longrightarrow \\mathbb{E}[\\hat{\\beta}|x_i] \\neq \\beta_{pop}\\end{align}$ <br>\n",
    "\n",
    "### **Why is this important?**\n",
    "pf:<br>\n",
    "$\n",
    "\\begin{gather}\n",
    "\\hat{\\beta}_{LS} = \\frac{\\displaystyle\\sum_{i=1}^{N}(x_i-\\bar{x})y_i}{\\displaystyle\\sum_{i=1}^N(x_i-\\bar{x})^2} = \\displaystyle\\sum_{i=1}^N v_iy_i \\\\\n",
    "(v_i = \\frac{(x_i-\\bar{x})}{\\displaystyle\\sum_{i=1}^N(x_i-\\bar{x})^2}, \\displaystyle\\sum_{i=1}^Nv_i=0, \\displaystyle\\sum_{i=1}^Nv_i^2=\\frac{S_x}{(s_x)^2} = \\frac{1}{s_x}) \\\\\n",
    "\\hat{\\beta}_{LS} = \\displaystyle\\sum_{i=1}^Nv_iy_i = \\displaystyle\\sum_{i=1}^Nv_i(\\alpha+\\beta x_i+u_i) = \\alpha\\displaystyle\\sum_{i=1}^Nv_i+\\beta\\displaystyle\\sum_{i=1}^Nv_ix_i+\\displaystyle\\sum_{i=1}^Nv_iu_i \\\\\n",
    "\\displaystyle\\sum_{i=1}^Nv_ix_i = \\frac{\\sum(x_i-\\bar{x})x_i}{S_x} = \\frac{\\sum(x_i-\\bar{x})(x_i-\\bar{x})}{S_x} \\\\\n",
    "\\hat{\\beta}_{LS} = \\beta + \\displaystyle\\sum_{i=1}^Nu_iv_i \\\\\n",
    "\\therefore \\mathbb{E}[\\hat{\\beta}_{LS}] = \\beta + \\displaystyle\\sum_{i=1}^Nu_i\\mathbb{E}[u_i], ~~~~\\mathbb{E}[u_i]=0 \\rightarrow \\mathbb{E}[\\hat{\\beta}_{LS}]=\\beta\n",
    "\\end{gather}\n",
    "$\n"
   ]
  },
  {
   "cell_type": "markdown",
   "metadata": {},
   "source": [
    "## No serial correlation\n",
    "Serial Correlation\n",
    "$\n",
    "\\Longleftrightarrow \\displaystyle\\sum_{i\\neq j}^Ncov(u_i, u_j) \\neq 0\n",
    "$\n",
    "<br>\n",
    "$\n",
    "Var(\\hat{\\beta}_{LS}) = Var(\\beta + \\displaystyle\\sum_{i=1}^Nv_iu_i) = Var(\\displaystyle\\sum_{i=1}^Nv_iu_i) = \\displaystyle\\sum_{i=1}^NVar(v_iu_i) +\\displaystyle\\sum_{i\\neq j}^Ncov(u_i, u_j)\n",
    "$\n",
    "\n",
    "if there is serial correlation then $\\displaystyle\\sum_{i\\neq j}^Ncov(u_i, u_j)$ term will survive\n",
    "so the variance is higher without serial correlation.\n",
    "<br><br><br> "
   ]
  },
  {
   "cell_type": "markdown",
   "metadata": {},
   "source": [
    "## Homoskedastic errors\n",
    "$Var(u_i|x_i) = \\sigma^2$ then the errors are homoskedastic.<br>\n",
    "$Var(u_i|x_i) = f(x_i)$ then the errors are heteroskedastic, the variance of errors is a function of x.<br>\n",
    "\n",
    "Heteroskedasticity often means that the model is missing some information. (discussed later)"
   ]
  },
  {
   "cell_type": "markdown",
   "metadata": {},
   "source": [
    "## No perfect collinearity\n",
    "\n",
    "Collinear features can confuse the model and gives high variance for $\\beta$ estimation\n",
    "and make the validity test(discussed later) fail for the beta value obtained from the dataset.\n",
    "\n",
    "For example, imagine regressing children's SAT score with parents' wealth. There are two features. one is Parents' net worth in US dollars' and other one is Parents' net worth in millions of US dollars, which are perfectly collinear. they have $\\beta_1, \\beta_2$ for coefficients. Then assume if 100K increase of parents' net worth increases 1 point. two betas can have $(10^{-5}, 0), (0, 10), (-10^{-5}, 20)$ and other values that can all give same results, so beta values won't get some clean fixed number. This makes the standard error large that leads to failure."
   ]
  },
  {
   "cell_type": "markdown",
   "metadata": {},
   "source": [
    "# **Other topics**\n",
    "\n",
    "## Omitted Variable Bias (OVB)\n",
    "some omitted essential variables can cause biased result.\n",
    "\n",
    "proof: <br>\n",
    "$\n",
    "y_i = \\alpha + \\beta x_i + u_i \\\\\n",
    "\\hat{\\beta} = \\displaystyle\\frac{Cov(X, Y)}{Var(X)} = \\displaystyle\\frac{\\displaystyle\\sum_{i=1}^N(x_i-\\bar{x})(\\alpha+\\beta x_u+u_i)}{Var(X)} = \\beta + \\frac{\\displaystyle\\sum_{i=1}^N(x_i-\\bar{x})u_i}{Var(X)}\n",
    "$<br>\n",
    "and if $u_i = \\beta_2x_{2i}+v_i$ then\n",
    "$\n",
    "\\hat{\\beta} = \\beta + \\displaystyle\\frac{\\displaystyle\\sum_{i=1}^N(x_i-\\bar{x})(\\beta_2x_{2i}+v_i)}{Var(X)} = \\beta + \\beta_2\\frac{cov(X, X_2)}{var(x)}\n",
    "$<br>\n",
    "and this value is different from $\\hat\\beta$ depending on the covariance.<br>\n",
    "however, if $cov(X_2, u) = 0$ then $\\beta_2 = 0$, so no OVB"
   ]
  },
  {
   "cell_type": "markdown",
   "metadata": {},
   "source": [
    "## Endogeniety\n",
    "if $\\mathbb{E}[u_i|x_i] \\neq 0$ then x is an endogenous variable. THere can be some reasons of this.\n",
    "\n",
    "### 1. Reverse causality\n",
    "In the linear estimator, x is the cause and y is the result. However, sometime the result can affect the reason again(feedbacks) then it is hard to figure out the exact casal effect of x has on y. This kind of feedback patterns are idiosyncratic for every reverse-causal data and should be handled with caution.\n",
    "\n",
    "### 2. Measurement error\n",
    "Inaccuratly measured features can cause errors(GIGO). Large enough errors can make beta value to zero. Usually measurement errors makes the value decrease.\n",
    "\n",
    "### 3. Functional Misspecificaiton\n",
    "If the function is not properly set, then the errors can have some patterns related to the input value."
   ]
  }
 ],
 "metadata": {
  "language_info": {
   "name": "python"
  }
 },
 "nbformat": 4,
 "nbformat_minor": 2
}
