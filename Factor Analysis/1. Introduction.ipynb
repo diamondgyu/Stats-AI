{
 "cells": [
  {
   "attachments": {},
   "cell_type": "markdown",
   "metadata": {},
   "source": [
    "# Factor Analysis\n",
    "\n",
    "## What is the purpose?\n",
    "요인분석(Factor Analysis)의 목적은 모집단 내의 관측된 변수에 대하여, 다른 관측되지 않은 변수들을 통해 관측 변수들의 분산과 공분산을 (더 적은 변수를 가지고) 설명하는 모델을 만드는 것이다.\n",
    "\n",
    "예를 들면, 불면증/자살생각/어지러움/과호흡 4가지 변수들의 관계를 알고 싶을 때, '우울'과 '불안' 이라는 2가지 비관측 변수를 통해 위 3가지 변수를 설명할 수 있을 것이다.\n",
    "\n",
    "한마디로 변수 간의 상관관계와 인과관계를 다른 변수를 통해 분석하는 것.\n",
    "\n",
    "# Model Representation\n",
    "방금 예시인 불면/자살생각/어지러움/과호흡을 하나의 벡터 $y$로 표현하고, 각각의 변수를 순서대로 $y_1, y_2, y_3, y_4$ 라 하자. 또, 표본 내의 개별 항목을 $1$부터 $n$까지 이름 붙이면, 각 $y$항목을\n",
    "\n",
    "$y_1 = \\begin{pmatrix}y_1^1 \\\\ y_1^2 \\\\ ... \\\\ y_1^n \\end{pmatrix}, ~ ... ~~ y_4 = \\begin{pmatrix}y_4^1 \\\\ y_4^2 \\\\ ... \\\\ y_4^n \\end{pmatrix}$\n",
    "\n",
    "와 같이 작성할 수 있을 것이다.\n",
    "\n",
    "또한 우울과 불안을 각각 $\\eta_1, \\eta_2$ 라 하고 위의 $y$와 같이 벡터로 정의한 다음 이들의 관계를 회귀식으로 표현하면\n",
    "\n",
    "$y_1 = \\lambda_{11}\\eta_1 + \\lambda_{12}\\eta_2 + \\epsilon_1 \\\\ ... \\\\ y_4 = \\lambda_{41}\\eta_1 + \\lambda_{42}\\eta_2 + \\epsilon_4$\n",
    "\n",
    "그러면 각 변수가 공통 부분($\\lambda\\eta$ 항)과 개별 부분($\\epsilon$항) 으로 나누어진다.\n",
    "\n",
    "그리고 이 친구들을 모두 쌓아올리면, 최종적으로\n",
    "\n",
    "$\\begin{pmatrix}y_1\\\\\\vdots\\\\y_4\\end{pmatrix} = \\begin{pmatrix}\\lambda_{11}&\\lambda_{12}\\\\\\vdots&\\vdots\\\\\\lambda_{21}&\\lambda_{22}\\end{pmatrix}\\begin{pmatrix}\\eta_1\\\\\\eta_2\\end{pmatrix}+\\begin{pmatrix}\\epsilon_1\\\\\\vdots\\\\\\epsilon_4\\end{pmatrix}$\n",
    "\n",
    "와 같은 행렬곱 형태로 만들 수 있다.\n",
    "\n",
    "다만 여기에서 $y,\\eta, \\epsilon_n$ 이 모두 벡터이므로 보다 엄밀하게 표현하면\n",
    "\n",
    "$\\begin{pmatrix}y_{11}&...&y_{14}\\\\\\vdots&\\ddots&\\vdots\\\\y_{n1}&...&y_{n4}\\end{pmatrix}=\\begin{pmatrix}\\eta_{11}&\\eta_{12}\\\\\\vdots&\\vdots\\\\\\eta_{n1}&\\eta_{n2}\\end{pmatrix}\\begin{pmatrix}\\lambda_{11}&...&\\lambda_{41}\\\\\\lambda_{12}&...&\\lambda_{42}\\end{pmatrix}+\\begin{pmatrix}\\epsilon_{11}&...&\\epsilon_{14}\\\\\\vdots&\\ddots&\\vdots\\\\\\epsilon_{n1}&...&\\epsilon_{n4}\\end{pmatrix}$\n",
    "\n",
    "깔끔하게 정리하면\n",
    "\n",
    "$ \\utilde{y}_{NV} = \\utilde{F}_{Nf}~\\utilde{P}_{fV} + \\utilde{\\epsilon}_{NV} $\n",
    "\n",
    "(아래물결은 벡터나 행렬을 의미)\n",
    "가 된다. 아래 첨자는 행렬의 크기를 의미하며, $N$은 샘플 수, $V$는 관측변수 수, $f$는 비관측변수 수이다.\n",
    "\n",
    "마지막으로 $\\epsilon$ 항을 앞의 common항과 유사하게 정리하면\n",
    "\n",
    "$\\utilde{\\epsilon}_{NV} = \\utilde{U}_{NV}\\utilde{D}_{VV} $\n",
    "\n",
    "이때 $\\utilde{U}_{NV}$는 unique factor이고 $\\utilde{D}_{VV}$ 는 대각행렬이다.\n",
    "\n",
    "모두 합치면, 최종 결과는\n",
    "\n",
    "$ \\utilde{y}_{NV} = \\utilde{F}_{Nf}~\\utilde{P}_{fV} + \\utilde{U}_{NV}\\utilde{D}_{VV} $\n",
    "\n",
    "가 된다.\n"
   ]
  },
  {
   "attachments": {},
   "cell_type": "markdown",
   "metadata": {},
   "source": [
    "# Assumptions\n",
    "\n",
    "우리는 $\\utilde{y}$ 가 항상 정규화되었다 가정한다. ($\\mathbb{E}[y] = 0, Var(y) = 1$)\n",
    "\n",
    "그렇다면 위의 식에서, $\\mathbb{E}[F] = 0,~ \\mathbb{E}[\\epsilon] = 0$ 가 된다.\n",
    "\n",
    "또한, $\\mathbb{E}[F\\epsilon] = 0$ 인 것을 가정하는데, 그렇게 해야 둘의 공분산이 0이기 때문이다. 공분산이 0보다 크면 설명이 충분히 되지 않았다는 뜻이기 때문에 0인 것이 좋다."
   ]
  }
 ],
 "metadata": {
  "language_info": {
   "name": "python"
  },
  "orig_nbformat": 4
 },
 "nbformat": 4,
 "nbformat_minor": 2
}
