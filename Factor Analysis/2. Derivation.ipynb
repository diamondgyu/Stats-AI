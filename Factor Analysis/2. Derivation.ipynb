{
 "cells": [
  {
   "attachments": {},
   "cell_type": "markdown",
   "metadata": {},
   "source": [
    "## Derivation of Variance\n",
    "\n",
    "3개의 관측변수(행복도, 기대수명, 병원 방문 횟수) 를 2가지 비관측변수(신체적 건강, 정신적 건강) 으로 추정하는 모델을 설계해 보자. \n",
    "관측변수는 $y_1, y_2, y_3$, 비관측변수는 $F_1, F_2$, unique factor는 $\\epsilon_1,\\epsilon_2,\\epsilon_3$ 라 둔다.\n",
    "\n",
    "식을 $y = \\Lambda\\eta + \\epsilon$ 라 두면\n",
    "\n",
    "$\n",
    "\\begin{aligned}\n",
    "Var(y) &= \\mathbb{E}[y^2] - \\mathbb{E}[y]^2 \\\\ &= \\mathbb{E}[y^2] = \\mathbb{E}[ (\\Lambda\\eta + \\epsilon)(\\Lambda\\eta + \\epsilon)^T] \\\\ &= \\mathbb{E}[ (\\Lambda\\eta + \\epsilon)(\\eta^T\\Lambda^T + \\epsilon^T)]  \\\\ &= \\mathbb{E}[\\Lambda\\eta\\eta^T\\Lambda^T + \\Lambda\\eta\\epsilon^T + \\epsilon\\eta^T\\Lambda^T + \\epsilon\\epsilon^T] \\\\ &= \\Lambda\\mathbb{E}[\\eta\\eta^T]\\Lambda^T + \\Lambda\\mathbb{E}[\\eta\\epsilon^T] + \\mathbb{E}[\\epsilon\\eta^T]\\Lambda^T + \\mathbb{E}[\\epsilon\\epsilon^T] \\\\ &= \\Lambda\\mathbb{E}[\\eta\\eta^T]\\Lambda^T + \\mathbb{E}[\\epsilon\\epsilon^T] ~~(\\because \\mathbb{E}[\\eta\\epsilon^T] = 0,~~ \\mathbb{E}[\\epsilon\\eta^T] = 0)\n",
    "\\end{aligned}\n",
    "$\n",
    "\n",
    "이때 $\\mathbb{E}[\\eta\\eta^T]$를 $\\Phi$ (F들의 공분산행렬), $\\mathbb{E}[\\epsilon\\epsilon^T]$를 $\\Theta$ 라 하면 식은\n",
    "\n",
    "$\n",
    "Var(y) = \\Lambda\\Phi\\Lambda^T + \\Theta\n",
    "$\n",
    "\n",
    "가 된다."
   ]
  }
 ],
 "metadata": {
  "language_info": {
   "name": "python"
  },
  "orig_nbformat": 4
 },
 "nbformat": 4,
 "nbformat_minor": 2
}
